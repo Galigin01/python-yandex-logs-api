{
 "cells": [
  {
   "cell_type": "code",
   "execution_count": 1,
   "metadata": {
    "collapsed": false
   },
   "outputs": [],
   "source": [
    "import requests, json, re, datetime"
   ]
  },
  {
   "cell_type": "markdown",
   "metadata": {},
   "source": [
    "## вводные данные\n",
    "\n",
    "Получение токена хорошо описано тут (полистайте вниз):\n",
    "http://datalytics.ru/all/stanovyas-guru-api-yandeks-metriki/\n",
    "\n",
    "Поля fields т.е. столбцы в отчете https://tech.yandex.ru/metrika/doc/api2/logs/fields/visits-docpage/"
   ]
  },
  {
   "cell_type": "code",
   "execution_count": 10,
   "metadata": {
    "collapsed": true
   },
   "outputs": [],
   "source": [
    "path = \"D:/\" # путь, куда будут сохраняться отчеты и логи ошибок\n",
    "token = \"AQAAAAAZnUV0AAOdM9W4wV44p0uQub-_7GzFV2Q\"             # токен\n",
    "m_id = \"39797515\"                                             # счетчик яндекс метрики\n",
    "date1 = \"2017-04-01\"\n",
    "date2 = \"2017-04-01\"\n",
    "fields = \"ym:s:clientID,ym:s:dateTime,ym:s:lastTrafficSource,ym:s:visitDuration,ym:s:pageViews\"\n",
    "source = \"visits\""
   ]
  },
  {
   "cell_type": "markdown",
   "metadata": {},
   "source": [
    "### Оценка возможности создания запроса\n",
    "Справка: https://tech.yandex.ru/metrika/doc/api2/logs/queries/evaluate-docpage/\n",
    "\n",
    "possible\tВозможность создания запроса логов.\n",
    "\n",
    "max_possible_day_quantity\tПримерное максимально возможное количество дней с учетом текущей квоты."
   ]
  },
  {
   "cell_type": "code",
   "execution_count": 3,
   "metadata": {
    "collapsed": false
   },
   "outputs": [
    {
     "data": {
      "text/plain": [
       "{'log_request_evaluation': {'max_possible_day_quantity': 39347,\n",
       "  'possible': True}}"
      ]
     },
     "execution_count": 3,
     "metadata": {},
     "output_type": "execute_result"
    }
   ],
   "source": [
    "#https://api-metrika.yandex.ru/management/v1/counter/{counterId}/logrequests/evaluate\n",
    "    \n",
    "url1 = \"https://api-metrika.yandex.ru/management/v1/counter/\"\n",
    "# формируем ссылку. сцепляем вводные данные\n",
    "evaluateURL = url1 + m_id +\"/logrequests/evaluate?date1=\"+ date1 +\"&date2=\"+ date2 +\"&fields=\"+ fields +\"&source=\"+ source +\"&oauth_token=\"+ token\n",
    "evaluateresult = requests.get(evaluateURL)                            # запрос к API\n",
    "evaluateresult = evaluateresult.text.encode('utf-8').decode('utf-8')   # расшифровка ответа                                        \n",
    "evaluateresult_dict = json.loads(evaluateresult)                       # превращаем ответ в словарь python, чтобы потом вытащить requestID\n",
    "evaluateresult_dict"
   ]
  },
  {
   "cell_type": "markdown",
   "metadata": {},
   "source": [
    "### Запрос на создание отчета\n",
    "Справка https://tech.yandex.ru/metrika/doc/api2/logs/queries/createlogrequest-docpage/"
   ]
  },
  {
   "cell_type": "code",
   "execution_count": 4,
   "metadata": {
    "collapsed": false
   },
   "outputs": [
    {
     "data": {
      "text/plain": [
       "{'log_request': {'counter_id': 39797515,\n",
       "  'date1': '2017-04-01',\n",
       "  'date2': '2017-04-01',\n",
       "  'fields': ['ym:s:clientID',\n",
       "   'ym:s:dateTime',\n",
       "   'ym:s:lastTrafficSource',\n",
       "   'ym:s:visitDuration',\n",
       "   'ym:s:pageViews'],\n",
       "  'request_id': 82859,\n",
       "  'source': 'visits',\n",
       "  'status': 'created'}}"
      ]
     },
     "execution_count": 4,
     "metadata": {},
     "output_type": "execute_result"
    }
   ],
   "source": [
    "url1 = \"https://api-metrika.yandex.ru/management/v1/counter/\"\n",
    "# формируем ссылку. сцепляем вводные данные\n",
    "postURL = url1 + m_id +\"/logrequests?date1=\"+ date1 +\"&date2=\"+ date2 +\"&fields=\"+ fields +\"&source=\"+ source +\"&oauth_token=\"+ token\n",
    "postresult = requests.post(postURL)                            # запрос к API\n",
    "postresult = postresult.text.encode('utf-8').decode('utf-8')   # расшифровка ответа                                        \n",
    "postresult_dict = json.loads(postresult)                       # превращаем ответ в словарь python, чтобы потом вытащить requestID\n",
    "request_id = str(postresult_dict[\"log_request\"][\"request_id\"]) # задаем переменную, в которую передаем request_id\n",
    "postresult_dict"
   ]
  },
  {
   "cell_type": "markdown",
   "metadata": {},
   "source": [
    "### Отмена создания отчета \n",
    "Если вы поняли, что послали формировать не тот отчет, лучше отменить его т.к есть ежедневные квоты на обращение к api могут закончиться."
   ]
  },
  {
   "cell_type": "code",
   "execution_count": null,
   "metadata": {
    "collapsed": true
   },
   "outputs": [],
   "source": [
    "# формируем ссылку. сцепляем вводные данные\n",
    "cancelURL = url1 + m_id +\"/logrequest/\"+ str(request_id) +\"/cancel?oauth_token=\"+ token\n",
    "cancelresult = requests.post(cancelURL)                            # запрос к API\n",
    "cancelresult = cancelresult.text.encode('utf-8').decode('utf-8')   # расшифровка ответа                                        \n",
    "cancelresult_dict = json.loads(cancelresult)\n",
    "cancelresult_dict"
   ]
  },
  {
   "cell_type": "markdown",
   "metadata": {},
   "source": [
    "### Статус готовности отчета\n",
    "Справка: https://tech.yandex.ru/metrika/doc/api2/logs/queries/getlogrequest-docpage/\n",
    "\n",
    "Значения статусов тут https://tech.yandex.ru/metrika/doc/api2/logs/queries/class_logrequest-docpage/#class_logrequest"
   ]
  },
  {
   "cell_type": "code",
   "execution_count": 8,
   "metadata": {
    "collapsed": false
   },
   "outputs": [
    {
     "data": {
      "text/plain": [
       "{'log_request': {'counter_id': 39797515,\n",
       "  'date1': '2017-04-01',\n",
       "  'date2': '2017-04-01',\n",
       "  'fields': ['ym:s:clientID',\n",
       "   'ym:s:dateTime',\n",
       "   'ym:s:lastTrafficSource',\n",
       "   'ym:s:visitDuration',\n",
       "   'ym:s:pageViews'],\n",
       "  'parts': [{'part_number': 0, 'size': 308579}],\n",
       "  'request_id': 82859,\n",
       "  'size': 308579,\n",
       "  'source': 'visits',\n",
       "  'status': 'processed'}}"
      ]
     },
     "execution_count": 8,
     "metadata": {},
     "output_type": "execute_result"
    }
   ],
   "source": [
    "# формируем ссылку. сцепляем вводные данные\n",
    "getURL = url1 + m_id +\"/logrequest/\"+ request_id +\"?&oauth_token=\"+ token\n",
    "getresult = requests.get(getURL)                               # запрос к API\n",
    "getresult = getresult.text.encode('utf-8').decode('utf-8')     # расшифровка ответа\n",
    "getresult = json.loads(getresult)                       # превращаем ответ в словарь python, чтобы потом вытащить кол-во частей\n",
    "getresult"
   ]
  },
  {
   "cell_type": "markdown",
   "metadata": {},
   "source": [
    "для продолжения требуется статус \"processed\"\n",
    "### Скачивание отчета\n",
    "Справка: https://tech.yandex.ru/metrika/doc/api2/logs/queries/download-docpage/"
   ]
  },
  {
   "cell_type": "code",
   "execution_count": 11,
   "metadata": {
    "collapsed": false
   },
   "outputs": [
    {
     "name": "stdout",
     "output_type": "stream",
     "text": [
      "Отчет скачан и сохранен в папку, которую вы указали в начале файла в переменной \"path\"\n"
     ]
    }
   ],
   "source": [
    "if getresult[\"log_request\"][\"status\"] == \"processed\":\n",
    "    len_parts = len(getresult[\"log_request\"][\"parts\"])                       #Кол-во частей\n",
    "    for i in range(len_parts):                                               #организуем цикл, чтобы записать все части в файл\n",
    "        downloadURL = url1 + m_id +\"/logrequest/\"+ request_id +\"/part/\"+ str(i) +\"/download?&oauth_token=\"+ token\n",
    "        downloadresult = requests.get(downloadURL)                           # запрос к API\n",
    "        downloadresult = downloadresult.text.encode('utf-8').decode('utf-8') # расшифровка ответа      \n",
    "        namefile = \"request_id \" + request_id + \".tsv\"                       # название файла, пример: \"request_id 82744.tsv\"\n",
    "        # запись в файл\n",
    "        with open(path + namefile, 'a', encoding='utf-8') as f:\n",
    "            f.write(downloadresult)\n",
    "    print('Отчет скачан и сохранен в папку, которую вы указали в начале файла в переменной \"path\"')\n",
    "else: print('Отчет еще не сформирован')"
   ]
  },
  {
   "cell_type": "markdown",
   "metadata": {},
   "source": [
    "### Удаление отчета на сервере яндекс, который был скачан"
   ]
  },
  {
   "cell_type": "code",
   "execution_count": 12,
   "metadata": {
    "collapsed": false
   },
   "outputs": [
    {
     "data": {
      "text/plain": [
       "{'log_request': {'counter_id': 39797515,\n",
       "  'date1': '2017-04-01',\n",
       "  'date2': '2017-04-01',\n",
       "  'fields': ['ym:s:clientID',\n",
       "   'ym:s:dateTime',\n",
       "   'ym:s:lastTrafficSource',\n",
       "   'ym:s:visitDuration',\n",
       "   'ym:s:pageViews'],\n",
       "  'parts': [{'part_number': 0, 'size': 308579}],\n",
       "  'request_id': 82859,\n",
       "  'size': 308579,\n",
       "  'source': 'visits',\n",
       "  'status': 'cleaned_by_user'}}"
      ]
     },
     "execution_count": 12,
     "metadata": {},
     "output_type": "execute_result"
    }
   ],
   "source": [
    "# формируем ссылку. сцепляем вводные данные\n",
    "cleanURL = url1 + m_id +\"/logrequest/\" + str(request_id) + \"/clean?oauth_token=\"+ token \n",
    "clean = requests.post(cleanURL)                             # Отправляет запрос на удаление файлов \n",
    "json.loads(clean.text.encode('utf-8').decode('utf-8'))      # Ответ"
   ]
  },
  {
   "cell_type": "code",
   "execution_count": null,
   "metadata": {
    "collapsed": true
   },
   "outputs": [],
   "source": []
  }
 ],
 "metadata": {
  "kernelspec": {
   "display_name": "Python 3",
   "language": "python",
   "name": "python3"
  },
  "language_info": {
   "codemirror_mode": {
    "name": "ipython",
    "version": 3
   },
   "file_extension": ".py",
   "mimetype": "text/x-python",
   "name": "python",
   "nbconvert_exporter": "python",
   "pygments_lexer": "ipython3",
   "version": "3.6.0"
  }
 },
 "nbformat": 4,
 "nbformat_minor": 2
}
